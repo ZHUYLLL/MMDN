{
 "cells": [
  {
   "cell_type": "code",
   "execution_count": null,
   "metadata": {},
   "outputs": [],
   "source": [
    "from pathlib import Path\n",
    "import torch\n",
    "import pandas as pd\n",
    "import numpy as np\n",
    "from tqdm import tqdm\n",
    "import torch.nn.functional as F\n",
    "import scipy.io\n",
    "import matplotlib.pyplot as plt\n",
    "data_folder=Path('')"
   ]
  },
  {
   "cell_type": "code",
   "execution_count": null,
   "metadata": {},
   "outputs": [],
   "source": [
    "Y = pd.read_csv(data_folder / 'REFERENCE.csv')"
   ]
  },
  {
   "cell_type": "code",
   "execution_count": null,
   "metadata": {},
   "outputs": [],
   "source": [
    "def process_data(data_entry):\n",
    "    signal = torch.tensor(data_entry['ECG'][0][0][2][:,:15000], dtype=torch.float32)\n",
    "    if signal.shape[1] < 15000:\n",
    "        n_pad = 15000 - signal.shape[1]\n",
    "        signal = F.pad(signal, (0, n_pad), mode='constant')\n",
    "    age = torch.tensor(data_entry['ECG'][0][0][1][0, 0], dtype=torch.float32)\n",
    "    if data_entry['ECG'][0][0][0][0]==np.str_('Male'):sex=torch.tensor(1,dtype=torch.float32)\n",
    "    else:sex=torch.tensor(0,dtype=torch.float32)\n",
    "    return signal.unsqueeze(0), age.unsqueeze(0), sex.unsqueeze(0)\n",
    "\n",
    "def load_raw_data_icbeb(df):\n",
    "    data = [scipy.io.loadmat('/remote-home/zhuyl/CPSC2018/CPSC/' + str(f)) for f in tqdm(df.Recording)]\n",
    "    signals = []\n",
    "    ages = []\n",
    "    sexes = []\n",
    "    for data_entry in tqdm(data):\n",
    "        signal, age, sex = process_data(data_entry)\n",
    "        signals.append(signal)\n",
    "        ages.append(age)\n",
    "        sexes.append(sex)\n",
    "    signals = torch.cat(signals, dim=0)\n",
    "    ages = torch.cat(ages, dim=0)\n",
    "    sexes = torch.cat(sexes, dim=0)\n",
    "    return signals, ages, sexes\n"
   ]
  },
  {
   "cell_type": "code",
   "execution_count": null,
   "metadata": {},
   "outputs": [],
   "source": [
    "datas, ages, sexes=load_raw_data_icbeb(Y)"
   ]
  },
  {
   "cell_type": "code",
   "execution_count": null,
   "metadata": {},
   "outputs": [],
   "source": [
    "y=torch.tensor(np.array([i for i in tqdm(Y.First_label)]))\n",
    "y=y-1\n",
    "num_classes = int(y.max()+1)\n",
    "one_hot_tensor = torch.nn.functional.one_hot(y, num_classes)"
   ]
  },
  {
   "cell_type": "code",
   "execution_count": null,
   "metadata": {},
   "outputs": [],
   "source": []
  }
 ],
 "metadata": {
  "language_info": {
   "name": "python"
  }
 },
 "nbformat": 4,
 "nbformat_minor": 2
}
